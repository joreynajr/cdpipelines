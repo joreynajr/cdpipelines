{
 "cells": [
  {
   "cell_type": "code",
   "execution_count": 368,
   "metadata": {
    "collapsed": true
   },
   "outputs": [],
   "source": [
    "import os \n",
    "import re\n",
    "import sys\n",
    "sys.path.append('/projects/CARDIPS/database/Cardips/')\n",
    "import django\n",
    "django.setup()\n",
    "import pandas as pd\n",
    "from data.models import ATACS as data_atacs \n",
    "from subject.models import Subject as subject_subject\n",
    "from django_pandas.io import read_frame\n",
    "\n",
    "def get_data_atacs_cell_type(data_atacs_id):\n",
    "    \"\"\"\n",
    "    Determine the celltype for the data_atacs_id sample.\n",
    "    \n",
    "    Parameters\n",
    "    ----------\n",
    "    data_atacs_id : str\n",
    "        uuid from the data_atacs table.\n",
    "        \n",
    "    Returns\n",
    "    -------\n",
    "    celltype : str\n",
    "        the celltype as entered in database. \n",
    "    \"\"\"\n",
    "    data_atacs_obj = data_atacs.objects.get(id=data_atacs_id)\n",
    "    \n",
    "    # Samples which have been linked \n",
    "    if data_atacs_obj.sample != None: \n",
    "        if data_atacs_obj.sample._meta.app_label in ['timecourse', 'data', 'family1070']:\n",
    "            celltype = data_atacs_obj.sample.tissue.cell\n",
    "            \n",
    "        elif data_atacs_obj.sample._meta.app_label == 'product':\n",
    "            # The product_pellets has a many to many relationship for the tissue for which \n",
    "            # you have to check congruency. \n",
    "            tissues = data_atacs_obj.sample.tissue.all()\n",
    "            if len(tissues) == 0:\n",
    "                celltype = 'Cannot determine. product_atacs object does not have an tissues assigned.'\n",
    "            elif len(tissues) == 1:\n",
    "                celltype = tissues[0].cell\n",
    "            else:\n",
    "                flags = [True if x.cell.strip() == tissues[0].cell.strip() else False for x in tissues]\n",
    "                if all(flags):\n",
    "                    celltype = tissues[0].cell\n",
    "                else:\n",
    "                    celltype = 'Cannot determine. product_atacs object has multiple tissues with contradicting cell type.'\n",
    "                    \n",
    "        else:\n",
    "            celltype = 'Cannot determine. Trouble shoot the product_atacs_object.'\n",
    "            \n",
    "    # Samples which have not been linked \n",
    "    else:\n",
    "        type1_re = re.search('(HEK|HeLa|ISL)', data_atacs_obj.name)\n",
    "        type2_re = re.search('(FD[1-9])', data_atacs_obj.name)\n",
    "        type3_re = re.search('(FD1[1-9])', data_atacs_obj.name)\n",
    "        if type1_re:\n",
    "            celltype = type1_re.groups()[0]\n",
    "        elif type2_re:\n",
    "            celltype = 'K562'\n",
    "        elif type3_re:\n",
    "            celltype = 'CM'  \n",
    "        else:\n",
    "            celltype = 'Cannot determine. data_atacs object does not have a sample --> tissue relationship.'\n",
    "    return celltype \n",
    "\n",
    "def calculate_peak_qc_stats(data_atacs_id, bam, peak, variant_coverage, region_coverage, peak_qc_metrics, celltype, num_input_reads):\n",
    "    \"\"\"\n",
    "    Calculate the quality control statistics for the atac's peak results.\n",
    "    \n",
    "    Parameters\n",
    "    ----------\n",
    "    data_atacs_id: str\n",
    "        the data_atacs_id generate inside of the CARDiPS database. \n",
    "    bam : str\n",
    "        the sort_rmdup bam file after aligning and processing the atac sequencing results. \n",
    "    peak : str\n",
    "        the narrowpeak file produced by macs2. \n",
    "    variant_coverage : str\n",
    "        produced as a result of running _____script_name_____.\n",
    "    region_coverage : str\n",
    "        produced as a result of running _____script_name_____.\n",
    "    peak_qc_metrics : str\n",
    "        name of the output qc file. \n",
    "    celltype : str\n",
    "        the cell type of the sample with the corresponding Data_atacs ID. \n",
    "    num_input_reads : int\n",
    "        the number of input reads determined by picard. \n",
    "    \n",
    "    \"\"\"\n",
    "    \n",
    "    dummy_fn = './testing_peak_qc_metrics.sh'\n",
    "    \n",
    "    lines = []\n",
    "    lines.append('python /frazer01/home/joreyna/repos/cdpipelines/cdpipelines/scripts/calculate_peak_enrichment.py')\n",
    "    lines.append('-dataID {}'.format(data_atacs_id))\n",
    "    lines.append('-bam {}'.format(bam))\n",
    "    lines.append('-peak {}'.format(peak))\n",
    "    lines.append('-var_cov {}'.format(variant_coverage))\n",
    "    lines.append('-reg_cov {}'.format(region_coverage))\n",
    "    lines.append('-output {}'.format(peak_qc_metrics))\n",
    "    lines.append('--cellType {}'.format(celltype))\n",
    "    lines.append('--NumInputReads {}'.format(num_input_reads))\n",
    "    \n",
    "    with open(dummy_fn, 'w') as f:\n",
    "        for i, line in enumerate(lines):\n",
    "            if i == 0:\n",
    "                f.write('{} \\\\\\n'.format(line))\n",
    "            elif i < len(lines) - 1:\n",
    "                f.write('\\t{} \\\\\\n'.format(line))\n",
    "            else:\n",
    "                f.write('\\t{}'.format(line))    \n",
    "    #     with open(self.filename, 'a') as f:\n",
    "    #         f.write('\\t'.join(lines))\n",
    "        \n",
    "    return variant_coverage, region_coverage, peak_qc_metrics"
   ]
  },
  {
   "cell_type": "code",
   "execution_count": 384,
   "metadata": {
    "collapsed": true
   },
   "outputs": [],
   "source": [
    "data_atacs_id = '5e149150-ee49-462c-85ec-c95291ddeebf'\n",
    "bam = '/frazer01/projects/CARDIPS/pipeline/ATACseq/sample/5e149150-ee49-462c-85ec-c95291ddeebf/alignment/5e149150-ee49-462c-85ec-c95291ddeebf_sorted_rmdup.bam'\n",
    "peak = '/frazer01/projects/CARDIPS/pipeline/ATACseq/sample/5e149150-ee49-462c-85ec-c95291ddeebf/macs2/5e149150-ee49-462c-85ec-c95291ddeebf_peaks.narrowPeak'\n",
    "variant_coverage = '/frazer01/projects/CARDIPS/pipeline/ATACseq/sample/5e149150-ee49-462c-85ec-c95291ddeebf/sh/{}_variant.coverage'.format(data_atacs_id)\n",
    "region_coverage = '/frazer01/projects/CARDIPS/pipeline/ATACseq/sample/5e149150-ee49-462c-85ec-c95291ddeebf/sh/{}_region.coverage'.format(data_atacs_id)\n",
    "peak_qc_metrics = '/frazer01/projects/CARDIPS/pipeline/ATACseq/sample/5e149150-ee49-462c-85ec-c95291ddeebf/sh/{}_peak_qc_metrics.tsv'.format(data_atacs_id)\n",
    "peak_qc_metrics = '/frazer01/home/joreyna/work/20161010_bill/{}_peak_qc_metrics.tsv'.format(data_atacs_id)\n",
    "\n",
    "# Extracting Number of input reads from STAR log file. \n",
    "aln_metrics = pd.read_csv( \\\n",
    "    '/projects/CARDIPS/pipeline/ATACseq/sample/{0}/alignment/{0}_Log.final.out'.format(data_atacs_id), \\\n",
    "      header=None, sep='|', index_col=0, skiprows=[4, 7, 22, 27])\n",
    "aln_metrics.iloc[:, 0] = aln_metrics.iloc[:, 0].apply(lambda x: x.strip())\n",
    "aln_metrics.index = aln_metrics.index.str.strip()\n",
    "num_input_reads = int(aln_metrics.ix['Number of input reads', 1])\n",
    "\n",
    "# Extracting celltype \n",
    "celltype = get_data_atacs_cell_type(data_atacs_id)"
   ]
  },
  {
   "cell_type": "code",
   "execution_count": 385,
   "metadata": {
    "collapsed": false
   },
   "outputs": [
    {
     "data": {
      "text/plain": [
       "('/frazer01/projects/CARDIPS/pipeline/ATACseq/sample/5e149150-ee49-462c-85ec-c95291ddeebf/sh/5e149150-ee49-462c-85ec-c95291ddeebf_variant.coverage',\n",
       " '/frazer01/projects/CARDIPS/pipeline/ATACseq/sample/5e149150-ee49-462c-85ec-c95291ddeebf/sh/5e149150-ee49-462c-85ec-c95291ddeebf_region.coverage',\n",
       " '/frazer01/home/joreyna/work/20161010_bill/5e149150-ee49-462c-85ec-c95291ddeebf_peak_qc_metrics.tsv')"
      ]
     },
     "execution_count": 385,
     "metadata": {},
     "output_type": "execute_result"
    }
   ],
   "source": [
    "calculate_peak_qc_stats(data_atacs_id, bam, peak, variant_coverage, region_coverage, peak_qc_metrics, celltype, num_input_reads)"
   ]
  },
  {
   "cell_type": "code",
   "execution_count": 386,
   "metadata": {
    "collapsed": false
   },
   "outputs": [
    {
     "name": "stdout",
     "output_type": "stream",
     "text": [
      "python /frazer01/home/joreyna/repos/cdpipelines/cdpipelines/scripts/calculate_peak_enrichment.py \\\n",
      "\t-dataID 5e149150-ee49-462c-85ec-c95291ddeebf \\\n",
      "\t-bam /frazer01/projects/CARDIPS/pipeline/ATACseq/sample/5e149150-ee49-462c-85ec-c95291ddeebf/alignment/5e149150-ee49-462c-85ec-c95291ddeebf_sorted_rmdup.bam \\\n",
      "\t-peak /frazer01/projects/CARDIPS/pipeline/ATACseq/sample/5e149150-ee49-462c-85ec-c95291ddeebf/macs2/5e149150-ee49-462c-85ec-c95291ddeebf_peaks.narrowPeak \\\n",
      "\t-var_cov /frazer01/projects/CARDIPS/pipeline/ATACseq/sample/5e149150-ee49-462c-85ec-c95291ddeebf/sh/5e149150-ee49-462c-85ec-c95291ddeebf_variant.coverage \\\n",
      "\t-reg_cov /frazer01/projects/CARDIPS/pipeline/ATACseq/sample/5e149150-ee49-462c-85ec-c95291ddeebf/sh/5e149150-ee49-462c-85ec-c95291ddeebf_region.coverage \\\n",
      "\t-output /frazer01/home/joreyna/work/20161010_bill/5e149150-ee49-462c-85ec-c95291ddeebf_peak_qc_metrics.tsv \\\n",
      "\t--cellType CM \\\n",
      "\t--NumInputReads 28899238\n"
     ]
    }
   ],
   "source": [
    "print open('./testing_peak_qc_metrics.sh').read()"
   ]
  },
  {
   "cell_type": "code",
   "execution_count": null,
   "metadata": {
    "collapsed": false
   },
   "outputs": [],
   "source": []
  },
  {
   "cell_type": "code",
   "execution_count": null,
   "metadata": {
    "collapsed": true
   },
   "outputs": [],
   "source": []
  },
  {
   "cell_type": "code",
   "execution_count": null,
   "metadata": {
    "collapsed": true
   },
   "outputs": [],
   "source": []
  },
  {
   "cell_type": "code",
   "execution_count": null,
   "metadata": {
    "collapsed": true
   },
   "outputs": [],
   "source": []
  },
  {
   "cell_type": "code",
   "execution_count": null,
   "metadata": {
    "collapsed": true
   },
   "outputs": [],
   "source": []
  },
  {
   "cell_type": "code",
   "execution_count": null,
   "metadata": {
    "collapsed": true
   },
   "outputs": [],
   "source": []
  },
  {
   "cell_type": "code",
   "execution_count": null,
   "metadata": {
    "collapsed": true
   },
   "outputs": [],
   "source": []
  },
  {
   "cell_type": "code",
   "execution_count": null,
   "metadata": {
    "collapsed": true
   },
   "outputs": [],
   "source": []
  },
  {
   "cell_type": "code",
   "execution_count": null,
   "metadata": {
    "collapsed": true
   },
   "outputs": [],
   "source": []
  },
  {
   "cell_type": "code",
   "execution_count": null,
   "metadata": {
    "collapsed": true
   },
   "outputs": [],
   "source": []
  },
  {
   "cell_type": "code",
   "execution_count": 387,
   "metadata": {
    "collapsed": false
   },
   "outputs": [],
   "source": [
    "query = data_atacs.objects.all()\n",
    "df = read_frame(query, index_col='id')\n",
    "ts = [get_data_atacs_cell_type(index) for index, sr in df.iterrows()]\n",
    "df['celltype'] = ts"
   ]
  },
  {
   "cell_type": "code",
   "execution_count": 389,
   "metadata": {
    "collapsed": true
   },
   "outputs": [],
   "source": [
    "g = df.groupby('celltype')"
   ]
  },
  {
   "cell_type": "code",
   "execution_count": 391,
   "metadata": {
    "collapsed": false
   },
   "outputs": [],
   "source": [
    "l = g.groups.keys()"
   ]
  },
  {
   "cell_type": "code",
   "execution_count": 392,
   "metadata": {
    "collapsed": false
   },
   "outputs": [
    {
     "data": {
      "text/plain": [
       "['Cannot determine. data_atacs object does not have a sample --> tissue relationship.',\n",
       " u'CM',\n",
       " u'CC',\n",
       " u'iPSC',\n",
       " 'K562',\n",
       " u'MP',\n",
       " u'ISL',\n",
       " u'HeLa',\n",
       " u'CP',\n",
       " u'HEK']"
      ]
     },
     "execution_count": 392,
     "metadata": {},
     "output_type": "execute_result"
    }
   ],
   "source": [
    "l.sort; l"
   ]
  },
  {
   "cell_type": "code",
   "execution_count": 393,
   "metadata": {
    "collapsed": false
   },
   "outputs": [
    {
     "data": {
      "text/plain": [
       "10"
      ]
     },
     "execution_count": 393,
     "metadata": {},
     "output_type": "execute_result"
    }
   ],
   "source": [
    "len(l)"
   ]
  },
  {
   "cell_type": "code",
   "execution_count": 398,
   "metadata": {
    "collapsed": false
   },
   "outputs": [],
   "source": [
    "celltype_errors_df = pd.concat([df[df.celltype.str.contains('^Cannot')],\n",
    "    df[df.celltype.str.contains('MP')],\n",
    "    df[df.celltype.str.contains('^CC')],\n",
    "    df[df.celltype.str.contains('^CP')]])"
   ]
  },
  {
   "cell_type": "code",
   "execution_count": 406,
   "metadata": {
    "collapsed": true
   },
   "outputs": [],
   "source": [
    "celltype_errors_df.index.name = 'data_atacs_id'"
   ]
  },
  {
   "cell_type": "code",
   "execution_count": 407,
   "metadata": {
    "collapsed": false
   },
   "outputs": [
    {
     "data": {
      "text/html": [
       "<div>\n",
       "<table border=\"1\" class=\"dataframe\">\n",
       "  <thead>\n",
       "    <tr style=\"text-align: right;\">\n",
       "      <th></th>\n",
       "      <th>sample_type</th>\n",
       "      <th>sample_id</th>\n",
       "      <th>sequence</th>\n",
       "      <th>name</th>\n",
       "      <th>status</th>\n",
       "      <th>comment</th>\n",
       "      <th>celltype</th>\n",
       "    </tr>\n",
       "    <tr>\n",
       "      <th>data_atacs_id</th>\n",
       "      <th></th>\n",
       "      <th></th>\n",
       "      <th></th>\n",
       "      <th></th>\n",
       "      <th></th>\n",
       "      <th></th>\n",
       "      <th></th>\n",
       "    </tr>\n",
       "  </thead>\n",
       "  <tbody>\n",
       "    <tr>\n",
       "      <th>c13d47ee-f2e9-4a4a-92f7-d0ee2c2413a1</th>\n",
       "      <td>None</td>\n",
       "      <td>NaN</td>\n",
       "      <td>160820_Salk</td>\n",
       "      <td>T103_CM_C5P30_UDID073_ATAC_R01L01S02</td>\n",
       "      <td>Processing</td>\n",
       "      <td>None</td>\n",
       "      <td>Cannot determine. data_atacs object does not h...</td>\n",
       "    </tr>\n",
       "    <tr>\n",
       "      <th>c2d3d7cc-3ece-423f-81d9-5f37fc002357</th>\n",
       "      <td>None</td>\n",
       "      <td>NaN</td>\n",
       "      <td>160820_Salk</td>\n",
       "      <td>T103_CM_C4P37_UDID056_ATAC_R01L01S02</td>\n",
       "      <td>Processing</td>\n",
       "      <td>None</td>\n",
       "      <td>Cannot determine. data_atacs object does not h...</td>\n",
       "    </tr>\n",
       "    <tr>\n",
       "      <th>e7021f4e-90a7-456a-af8d-ed488cc405b5</th>\n",
       "      <td>None</td>\n",
       "      <td>NaN</td>\n",
       "      <td>160820_Salk</td>\n",
       "      <td>T104_CM_C6P25_UDID058_ATAC_R01L01S02</td>\n",
       "      <td>Processing</td>\n",
       "      <td>None</td>\n",
       "      <td>Cannot determine. data_atacs object does not h...</td>\n",
       "    </tr>\n",
       "    <tr>\n",
       "      <th>f2d5469b-395f-44e1-9f12-511aff7c2ea1</th>\n",
       "      <td>None</td>\n",
       "      <td>NaN</td>\n",
       "      <td>160820_Salk</td>\n",
       "      <td>T211_CM_C3P30_UDID108_ATAC_R02L01S02</td>\n",
       "      <td>Processing</td>\n",
       "      <td>None</td>\n",
       "      <td>Cannot determine. data_atacs object does not h...</td>\n",
       "    </tr>\n",
       "    <tr>\n",
       "      <th>ffbe88c6-49c0-4fce-8542-56bb2930ee4a</th>\n",
       "      <td>None</td>\n",
       "      <td>NaN</td>\n",
       "      <td>160820_Salk</td>\n",
       "      <td>S07002_CM_C7P29_UDID053_ATAC_R01L01S02</td>\n",
       "      <td>Processing</td>\n",
       "      <td>None</td>\n",
       "      <td>Cannot determine. data_atacs object does not h...</td>\n",
       "    </tr>\n",
       "    <tr>\n",
       "      <th>0807363e-03bb-4e93-812f-8d4239c5f48c</th>\n",
       "      <td>None</td>\n",
       "      <td>32.0</td>\n",
       "      <td>141205_D00611_0040_BC67L7ANXX</td>\n",
       "      <td>S07009_d2_1</td>\n",
       "      <td>Active</td>\n",
       "      <td>None</td>\n",
       "      <td>MP</td>\n",
       "    </tr>\n",
       "    <tr>\n",
       "      <th>1b90c5f8-4245-419a-82fd-7944b14588f7</th>\n",
       "      <td>None</td>\n",
       "      <td>12.0</td>\n",
       "      <td>141205_D00611_0040_BC67L7ANXX</td>\n",
       "      <td>S07002_d2_3</td>\n",
       "      <td>Active</td>\n",
       "      <td>None</td>\n",
       "      <td>MP</td>\n",
       "    </tr>\n",
       "    <tr>\n",
       "      <th>21de5e31-8409-4fb8-a764-f3210eb87a7f</th>\n",
       "      <td>None</td>\n",
       "      <td>7.0</td>\n",
       "      <td>141205_D00611_0040_BC67L7ANXX</td>\n",
       "      <td>S07002_d2_2</td>\n",
       "      <td>Active</td>\n",
       "      <td>None</td>\n",
       "      <td>MP</td>\n",
       "    </tr>\n",
       "    <tr>\n",
       "      <th>4bf4760a-52b8-45b9-89c6-c068b952e74d</th>\n",
       "      <td>None</td>\n",
       "      <td>22.0</td>\n",
       "      <td>141205_D00611_0040_BC67L7ANXX</td>\n",
       "      <td>S07003_d2_2</td>\n",
       "      <td>Active</td>\n",
       "      <td>None</td>\n",
       "      <td>MP</td>\n",
       "    </tr>\n",
       "    <tr>\n",
       "      <th>4d75c71d-a7d6-4280-9248-36ac6712ff14</th>\n",
       "      <td>None</td>\n",
       "      <td>2.0</td>\n",
       "      <td>141205_D00611_0040_BC67L7ANXX</td>\n",
       "      <td>S07002_d2_1</td>\n",
       "      <td>Active</td>\n",
       "      <td>None</td>\n",
       "      <td>MP</td>\n",
       "    </tr>\n",
       "    <tr>\n",
       "      <th>8a0738f5-db4e-4d17-88a2-3e15e2647ae2</th>\n",
       "      <td>None</td>\n",
       "      <td>17.0</td>\n",
       "      <td>141205_D00611_0040_BC67L7ANXX</td>\n",
       "      <td>S07003_d2_1</td>\n",
       "      <td>Active</td>\n",
       "      <td>None</td>\n",
       "      <td>MP</td>\n",
       "    </tr>\n",
       "    <tr>\n",
       "      <th>aac3e4c8-80f5-46c5-83bb-0728b300081c</th>\n",
       "      <td>None</td>\n",
       "      <td>42.0</td>\n",
       "      <td>141205_D00611_0040_BC67L7ANXX</td>\n",
       "      <td>S07009_d2_3</td>\n",
       "      <td>Active</td>\n",
       "      <td>None</td>\n",
       "      <td>MP</td>\n",
       "    </tr>\n",
       "    <tr>\n",
       "      <th>b0d001f9-cded-427d-9fd4-6c99e7865d9f</th>\n",
       "      <td>None</td>\n",
       "      <td>37.0</td>\n",
       "      <td>141205_D00611_0040_BC67L7ANXX</td>\n",
       "      <td>S07009_d2_2</td>\n",
       "      <td>Active</td>\n",
       "      <td>None</td>\n",
       "      <td>MP</td>\n",
       "    </tr>\n",
       "    <tr>\n",
       "      <th>f3201173-7061-43e2-8c9e-b4f12997dbef</th>\n",
       "      <td>None</td>\n",
       "      <td>27.0</td>\n",
       "      <td>141205_D00611_0040_BC67L7ANXX</td>\n",
       "      <td>S07003_d2_3</td>\n",
       "      <td>Active</td>\n",
       "      <td>None</td>\n",
       "      <td>MP</td>\n",
       "    </tr>\n",
       "    <tr>\n",
       "      <th>12324d0a-6f68-4532-8e4a-4cf463fd8585</th>\n",
       "      <td>None</td>\n",
       "      <td>34.0</td>\n",
       "      <td>141205_D00611_0040_BC67L7ANXX</td>\n",
       "      <td>S07009_d9_1</td>\n",
       "      <td>Active</td>\n",
       "      <td>None</td>\n",
       "      <td>CC</td>\n",
       "    </tr>\n",
       "    <tr>\n",
       "      <th>67741ce6-b71e-4fcd-ab58-a8a9f6a35bf3</th>\n",
       "      <td>None</td>\n",
       "      <td>14.0</td>\n",
       "      <td>141205_D00611_0040_BC67L7ANXX</td>\n",
       "      <td>S07002_d9_3</td>\n",
       "      <td>Active</td>\n",
       "      <td>None</td>\n",
       "      <td>CC</td>\n",
       "    </tr>\n",
       "    <tr>\n",
       "      <th>67920cb4-9edf-4feb-b524-24fa6594eb16</th>\n",
       "      <td>None</td>\n",
       "      <td>29.0</td>\n",
       "      <td>141205_D00611_0040_BC67L7ANXX</td>\n",
       "      <td>S07003_d9_3</td>\n",
       "      <td>Active</td>\n",
       "      <td>None</td>\n",
       "      <td>CC</td>\n",
       "    </tr>\n",
       "    <tr>\n",
       "      <th>731dfa8d-f74b-46ac-ad06-79605c42cab5</th>\n",
       "      <td>None</td>\n",
       "      <td>24.0</td>\n",
       "      <td>141205_D00611_0040_BC67L7ANXX</td>\n",
       "      <td>S07003_d9_2</td>\n",
       "      <td>Active</td>\n",
       "      <td>None</td>\n",
       "      <td>CC</td>\n",
       "    </tr>\n",
       "    <tr>\n",
       "      <th>9a270d5c-7762-45b2-a775-dd96fd05fd69</th>\n",
       "      <td>None</td>\n",
       "      <td>9.0</td>\n",
       "      <td>141205_D00611_0040_BC67L7ANXX</td>\n",
       "      <td>S07002_d9_2</td>\n",
       "      <td>Active</td>\n",
       "      <td>None</td>\n",
       "      <td>CC</td>\n",
       "    </tr>\n",
       "    <tr>\n",
       "      <th>c664cdee-2783-45a8-ab5b-ea1ad179ce3c</th>\n",
       "      <td>None</td>\n",
       "      <td>19.0</td>\n",
       "      <td>141205_D00611_0040_BC67L7ANXX</td>\n",
       "      <td>S07003_d9_1</td>\n",
       "      <td>Active</td>\n",
       "      <td>None</td>\n",
       "      <td>CC</td>\n",
       "    </tr>\n",
       "    <tr>\n",
       "      <th>de4390f2-1415-48e3-bc0e-8dcc6c122038</th>\n",
       "      <td>None</td>\n",
       "      <td>39.0</td>\n",
       "      <td>141205_D00611_0040_BC67L7ANXX</td>\n",
       "      <td>S07009_d9_2</td>\n",
       "      <td>Active</td>\n",
       "      <td>None</td>\n",
       "      <td>CC</td>\n",
       "    </tr>\n",
       "    <tr>\n",
       "      <th>ec7a95aa-d842-437b-8b71-390e754ea292</th>\n",
       "      <td>None</td>\n",
       "      <td>44.0</td>\n",
       "      <td>141205_D00611_0040_BC67L7ANXX</td>\n",
       "      <td>S07009_d9_3</td>\n",
       "      <td>Active</td>\n",
       "      <td>None</td>\n",
       "      <td>CC</td>\n",
       "    </tr>\n",
       "    <tr>\n",
       "      <th>eda22522-ca48-4003-8c38-bade8418499d</th>\n",
       "      <td>None</td>\n",
       "      <td>4.0</td>\n",
       "      <td>141205_D00611_0040_BC67L7ANXX</td>\n",
       "      <td>S07002_d9_1</td>\n",
       "      <td>Active</td>\n",
       "      <td>None</td>\n",
       "      <td>CC</td>\n",
       "    </tr>\n",
       "    <tr>\n",
       "      <th>12c627a1-4322-4a64-b464-b459d94964aa</th>\n",
       "      <td>None</td>\n",
       "      <td>13.0</td>\n",
       "      <td>141205_D00611_0040_BC67L7ANXX</td>\n",
       "      <td>S07002_d5_3</td>\n",
       "      <td>Active</td>\n",
       "      <td>None</td>\n",
       "      <td>CP</td>\n",
       "    </tr>\n",
       "    <tr>\n",
       "      <th>18d81e58-62e7-4670-82ff-b18bf1cdb594</th>\n",
       "      <td>None</td>\n",
       "      <td>18.0</td>\n",
       "      <td>141205_D00611_0040_BC67L7ANXX</td>\n",
       "      <td>S07003_d5_1</td>\n",
       "      <td>Active</td>\n",
       "      <td>None</td>\n",
       "      <td>CP</td>\n",
       "    </tr>\n",
       "    <tr>\n",
       "      <th>1abb4753-ee38-4265-afcf-35ab5be3a7b9</th>\n",
       "      <td>None</td>\n",
       "      <td>23.0</td>\n",
       "      <td>141205_D00611_0040_BC67L7ANXX</td>\n",
       "      <td>S07003_d5_2</td>\n",
       "      <td>Active</td>\n",
       "      <td>None</td>\n",
       "      <td>CP</td>\n",
       "    </tr>\n",
       "    <tr>\n",
       "      <th>354ba2ed-1ddd-4556-a473-be90bc53577b</th>\n",
       "      <td>None</td>\n",
       "      <td>43.0</td>\n",
       "      <td>141205_D00611_0040_BC67L7ANXX</td>\n",
       "      <td>S07009_d5_3</td>\n",
       "      <td>Active</td>\n",
       "      <td>None</td>\n",
       "      <td>CP</td>\n",
       "    </tr>\n",
       "    <tr>\n",
       "      <th>43d62011-1225-4cf4-b1d8-a3357d1b0439</th>\n",
       "      <td>None</td>\n",
       "      <td>8.0</td>\n",
       "      <td>141205_D00611_0040_BC67L7ANXX</td>\n",
       "      <td>S07002_d5_2</td>\n",
       "      <td>Active</td>\n",
       "      <td>None</td>\n",
       "      <td>CP</td>\n",
       "    </tr>\n",
       "    <tr>\n",
       "      <th>61428cfc-338b-4307-addd-065c67429891</th>\n",
       "      <td>None</td>\n",
       "      <td>38.0</td>\n",
       "      <td>141205_D00611_0040_BC67L7ANXX</td>\n",
       "      <td>S07009_d5_2</td>\n",
       "      <td>Active</td>\n",
       "      <td>None</td>\n",
       "      <td>CP</td>\n",
       "    </tr>\n",
       "    <tr>\n",
       "      <th>622d93a9-00f8-4886-a2a6-baa5af6c1a99</th>\n",
       "      <td>None</td>\n",
       "      <td>28.0</td>\n",
       "      <td>141205_D00611_0040_BC67L7ANXX</td>\n",
       "      <td>S07003_d5_3</td>\n",
       "      <td>Active</td>\n",
       "      <td>None</td>\n",
       "      <td>CP</td>\n",
       "    </tr>\n",
       "    <tr>\n",
       "      <th>bfebdaa8-a50f-4f81-83cc-84fcf05c0450</th>\n",
       "      <td>None</td>\n",
       "      <td>33.0</td>\n",
       "      <td>141205_D00611_0040_BC67L7ANXX</td>\n",
       "      <td>S07009_d5_1</td>\n",
       "      <td>Active</td>\n",
       "      <td>None</td>\n",
       "      <td>CP</td>\n",
       "    </tr>\n",
       "    <tr>\n",
       "      <th>e1cafa0d-7fe1-4ec8-809d-1959badaffac</th>\n",
       "      <td>None</td>\n",
       "      <td>3.0</td>\n",
       "      <td>141205_D00611_0040_BC67L7ANXX</td>\n",
       "      <td>S07002_d5_1</td>\n",
       "      <td>Active</td>\n",
       "      <td>None</td>\n",
       "      <td>CP</td>\n",
       "    </tr>\n",
       "  </tbody>\n",
       "</table>\n",
       "</div>"
      ],
      "text/plain": [
       "                                     sample_type  sample_id  \\\n",
       "data_atacs_id                                                 \n",
       "c13d47ee-f2e9-4a4a-92f7-d0ee2c2413a1        None        NaN   \n",
       "c2d3d7cc-3ece-423f-81d9-5f37fc002357        None        NaN   \n",
       "e7021f4e-90a7-456a-af8d-ed488cc405b5        None        NaN   \n",
       "f2d5469b-395f-44e1-9f12-511aff7c2ea1        None        NaN   \n",
       "ffbe88c6-49c0-4fce-8542-56bb2930ee4a        None        NaN   \n",
       "0807363e-03bb-4e93-812f-8d4239c5f48c        None       32.0   \n",
       "1b90c5f8-4245-419a-82fd-7944b14588f7        None       12.0   \n",
       "21de5e31-8409-4fb8-a764-f3210eb87a7f        None        7.0   \n",
       "4bf4760a-52b8-45b9-89c6-c068b952e74d        None       22.0   \n",
       "4d75c71d-a7d6-4280-9248-36ac6712ff14        None        2.0   \n",
       "8a0738f5-db4e-4d17-88a2-3e15e2647ae2        None       17.0   \n",
       "aac3e4c8-80f5-46c5-83bb-0728b300081c        None       42.0   \n",
       "b0d001f9-cded-427d-9fd4-6c99e7865d9f        None       37.0   \n",
       "f3201173-7061-43e2-8c9e-b4f12997dbef        None       27.0   \n",
       "12324d0a-6f68-4532-8e4a-4cf463fd8585        None       34.0   \n",
       "67741ce6-b71e-4fcd-ab58-a8a9f6a35bf3        None       14.0   \n",
       "67920cb4-9edf-4feb-b524-24fa6594eb16        None       29.0   \n",
       "731dfa8d-f74b-46ac-ad06-79605c42cab5        None       24.0   \n",
       "9a270d5c-7762-45b2-a775-dd96fd05fd69        None        9.0   \n",
       "c664cdee-2783-45a8-ab5b-ea1ad179ce3c        None       19.0   \n",
       "de4390f2-1415-48e3-bc0e-8dcc6c122038        None       39.0   \n",
       "ec7a95aa-d842-437b-8b71-390e754ea292        None       44.0   \n",
       "eda22522-ca48-4003-8c38-bade8418499d        None        4.0   \n",
       "12c627a1-4322-4a64-b464-b459d94964aa        None       13.0   \n",
       "18d81e58-62e7-4670-82ff-b18bf1cdb594        None       18.0   \n",
       "1abb4753-ee38-4265-afcf-35ab5be3a7b9        None       23.0   \n",
       "354ba2ed-1ddd-4556-a473-be90bc53577b        None       43.0   \n",
       "43d62011-1225-4cf4-b1d8-a3357d1b0439        None        8.0   \n",
       "61428cfc-338b-4307-addd-065c67429891        None       38.0   \n",
       "622d93a9-00f8-4886-a2a6-baa5af6c1a99        None       28.0   \n",
       "bfebdaa8-a50f-4f81-83cc-84fcf05c0450        None       33.0   \n",
       "e1cafa0d-7fe1-4ec8-809d-1959badaffac        None        3.0   \n",
       "\n",
       "                                                           sequence  \\\n",
       "data_atacs_id                                                         \n",
       "c13d47ee-f2e9-4a4a-92f7-d0ee2c2413a1                    160820_Salk   \n",
       "c2d3d7cc-3ece-423f-81d9-5f37fc002357                    160820_Salk   \n",
       "e7021f4e-90a7-456a-af8d-ed488cc405b5                    160820_Salk   \n",
       "f2d5469b-395f-44e1-9f12-511aff7c2ea1                    160820_Salk   \n",
       "ffbe88c6-49c0-4fce-8542-56bb2930ee4a                    160820_Salk   \n",
       "0807363e-03bb-4e93-812f-8d4239c5f48c  141205_D00611_0040_BC67L7ANXX   \n",
       "1b90c5f8-4245-419a-82fd-7944b14588f7  141205_D00611_0040_BC67L7ANXX   \n",
       "21de5e31-8409-4fb8-a764-f3210eb87a7f  141205_D00611_0040_BC67L7ANXX   \n",
       "4bf4760a-52b8-45b9-89c6-c068b952e74d  141205_D00611_0040_BC67L7ANXX   \n",
       "4d75c71d-a7d6-4280-9248-36ac6712ff14  141205_D00611_0040_BC67L7ANXX   \n",
       "8a0738f5-db4e-4d17-88a2-3e15e2647ae2  141205_D00611_0040_BC67L7ANXX   \n",
       "aac3e4c8-80f5-46c5-83bb-0728b300081c  141205_D00611_0040_BC67L7ANXX   \n",
       "b0d001f9-cded-427d-9fd4-6c99e7865d9f  141205_D00611_0040_BC67L7ANXX   \n",
       "f3201173-7061-43e2-8c9e-b4f12997dbef  141205_D00611_0040_BC67L7ANXX   \n",
       "12324d0a-6f68-4532-8e4a-4cf463fd8585  141205_D00611_0040_BC67L7ANXX   \n",
       "67741ce6-b71e-4fcd-ab58-a8a9f6a35bf3  141205_D00611_0040_BC67L7ANXX   \n",
       "67920cb4-9edf-4feb-b524-24fa6594eb16  141205_D00611_0040_BC67L7ANXX   \n",
       "731dfa8d-f74b-46ac-ad06-79605c42cab5  141205_D00611_0040_BC67L7ANXX   \n",
       "9a270d5c-7762-45b2-a775-dd96fd05fd69  141205_D00611_0040_BC67L7ANXX   \n",
       "c664cdee-2783-45a8-ab5b-ea1ad179ce3c  141205_D00611_0040_BC67L7ANXX   \n",
       "de4390f2-1415-48e3-bc0e-8dcc6c122038  141205_D00611_0040_BC67L7ANXX   \n",
       "ec7a95aa-d842-437b-8b71-390e754ea292  141205_D00611_0040_BC67L7ANXX   \n",
       "eda22522-ca48-4003-8c38-bade8418499d  141205_D00611_0040_BC67L7ANXX   \n",
       "12c627a1-4322-4a64-b464-b459d94964aa  141205_D00611_0040_BC67L7ANXX   \n",
       "18d81e58-62e7-4670-82ff-b18bf1cdb594  141205_D00611_0040_BC67L7ANXX   \n",
       "1abb4753-ee38-4265-afcf-35ab5be3a7b9  141205_D00611_0040_BC67L7ANXX   \n",
       "354ba2ed-1ddd-4556-a473-be90bc53577b  141205_D00611_0040_BC67L7ANXX   \n",
       "43d62011-1225-4cf4-b1d8-a3357d1b0439  141205_D00611_0040_BC67L7ANXX   \n",
       "61428cfc-338b-4307-addd-065c67429891  141205_D00611_0040_BC67L7ANXX   \n",
       "622d93a9-00f8-4886-a2a6-baa5af6c1a99  141205_D00611_0040_BC67L7ANXX   \n",
       "bfebdaa8-a50f-4f81-83cc-84fcf05c0450  141205_D00611_0040_BC67L7ANXX   \n",
       "e1cafa0d-7fe1-4ec8-809d-1959badaffac  141205_D00611_0040_BC67L7ANXX   \n",
       "\n",
       "                                                                        name  \\\n",
       "data_atacs_id                                                                  \n",
       "c13d47ee-f2e9-4a4a-92f7-d0ee2c2413a1    T103_CM_C5P30_UDID073_ATAC_R01L01S02   \n",
       "c2d3d7cc-3ece-423f-81d9-5f37fc002357    T103_CM_C4P37_UDID056_ATAC_R01L01S02   \n",
       "e7021f4e-90a7-456a-af8d-ed488cc405b5    T104_CM_C6P25_UDID058_ATAC_R01L01S02   \n",
       "f2d5469b-395f-44e1-9f12-511aff7c2ea1    T211_CM_C3P30_UDID108_ATAC_R02L01S02   \n",
       "ffbe88c6-49c0-4fce-8542-56bb2930ee4a  S07002_CM_C7P29_UDID053_ATAC_R01L01S02   \n",
       "0807363e-03bb-4e93-812f-8d4239c5f48c                             S07009_d2_1   \n",
       "1b90c5f8-4245-419a-82fd-7944b14588f7                             S07002_d2_3   \n",
       "21de5e31-8409-4fb8-a764-f3210eb87a7f                             S07002_d2_2   \n",
       "4bf4760a-52b8-45b9-89c6-c068b952e74d                             S07003_d2_2   \n",
       "4d75c71d-a7d6-4280-9248-36ac6712ff14                             S07002_d2_1   \n",
       "8a0738f5-db4e-4d17-88a2-3e15e2647ae2                             S07003_d2_1   \n",
       "aac3e4c8-80f5-46c5-83bb-0728b300081c                             S07009_d2_3   \n",
       "b0d001f9-cded-427d-9fd4-6c99e7865d9f                             S07009_d2_2   \n",
       "f3201173-7061-43e2-8c9e-b4f12997dbef                             S07003_d2_3   \n",
       "12324d0a-6f68-4532-8e4a-4cf463fd8585                             S07009_d9_1   \n",
       "67741ce6-b71e-4fcd-ab58-a8a9f6a35bf3                             S07002_d9_3   \n",
       "67920cb4-9edf-4feb-b524-24fa6594eb16                             S07003_d9_3   \n",
       "731dfa8d-f74b-46ac-ad06-79605c42cab5                             S07003_d9_2   \n",
       "9a270d5c-7762-45b2-a775-dd96fd05fd69                             S07002_d9_2   \n",
       "c664cdee-2783-45a8-ab5b-ea1ad179ce3c                             S07003_d9_1   \n",
       "de4390f2-1415-48e3-bc0e-8dcc6c122038                             S07009_d9_2   \n",
       "ec7a95aa-d842-437b-8b71-390e754ea292                             S07009_d9_3   \n",
       "eda22522-ca48-4003-8c38-bade8418499d                             S07002_d9_1   \n",
       "12c627a1-4322-4a64-b464-b459d94964aa                             S07002_d5_3   \n",
       "18d81e58-62e7-4670-82ff-b18bf1cdb594                             S07003_d5_1   \n",
       "1abb4753-ee38-4265-afcf-35ab5be3a7b9                             S07003_d5_2   \n",
       "354ba2ed-1ddd-4556-a473-be90bc53577b                             S07009_d5_3   \n",
       "43d62011-1225-4cf4-b1d8-a3357d1b0439                             S07002_d5_2   \n",
       "61428cfc-338b-4307-addd-065c67429891                             S07009_d5_2   \n",
       "622d93a9-00f8-4886-a2a6-baa5af6c1a99                             S07003_d5_3   \n",
       "bfebdaa8-a50f-4f81-83cc-84fcf05c0450                             S07009_d5_1   \n",
       "e1cafa0d-7fe1-4ec8-809d-1959badaffac                             S07002_d5_1   \n",
       "\n",
       "                                          status comment  \\\n",
       "data_atacs_id                                              \n",
       "c13d47ee-f2e9-4a4a-92f7-d0ee2c2413a1  Processing    None   \n",
       "c2d3d7cc-3ece-423f-81d9-5f37fc002357  Processing    None   \n",
       "e7021f4e-90a7-456a-af8d-ed488cc405b5  Processing    None   \n",
       "f2d5469b-395f-44e1-9f12-511aff7c2ea1  Processing    None   \n",
       "ffbe88c6-49c0-4fce-8542-56bb2930ee4a  Processing    None   \n",
       "0807363e-03bb-4e93-812f-8d4239c5f48c      Active    None   \n",
       "1b90c5f8-4245-419a-82fd-7944b14588f7      Active    None   \n",
       "21de5e31-8409-4fb8-a764-f3210eb87a7f      Active    None   \n",
       "4bf4760a-52b8-45b9-89c6-c068b952e74d      Active    None   \n",
       "4d75c71d-a7d6-4280-9248-36ac6712ff14      Active    None   \n",
       "8a0738f5-db4e-4d17-88a2-3e15e2647ae2      Active    None   \n",
       "aac3e4c8-80f5-46c5-83bb-0728b300081c      Active    None   \n",
       "b0d001f9-cded-427d-9fd4-6c99e7865d9f      Active    None   \n",
       "f3201173-7061-43e2-8c9e-b4f12997dbef      Active    None   \n",
       "12324d0a-6f68-4532-8e4a-4cf463fd8585      Active    None   \n",
       "67741ce6-b71e-4fcd-ab58-a8a9f6a35bf3      Active    None   \n",
       "67920cb4-9edf-4feb-b524-24fa6594eb16      Active    None   \n",
       "731dfa8d-f74b-46ac-ad06-79605c42cab5      Active    None   \n",
       "9a270d5c-7762-45b2-a775-dd96fd05fd69      Active    None   \n",
       "c664cdee-2783-45a8-ab5b-ea1ad179ce3c      Active    None   \n",
       "de4390f2-1415-48e3-bc0e-8dcc6c122038      Active    None   \n",
       "ec7a95aa-d842-437b-8b71-390e754ea292      Active    None   \n",
       "eda22522-ca48-4003-8c38-bade8418499d      Active    None   \n",
       "12c627a1-4322-4a64-b464-b459d94964aa      Active    None   \n",
       "18d81e58-62e7-4670-82ff-b18bf1cdb594      Active    None   \n",
       "1abb4753-ee38-4265-afcf-35ab5be3a7b9      Active    None   \n",
       "354ba2ed-1ddd-4556-a473-be90bc53577b      Active    None   \n",
       "43d62011-1225-4cf4-b1d8-a3357d1b0439      Active    None   \n",
       "61428cfc-338b-4307-addd-065c67429891      Active    None   \n",
       "622d93a9-00f8-4886-a2a6-baa5af6c1a99      Active    None   \n",
       "bfebdaa8-a50f-4f81-83cc-84fcf05c0450      Active    None   \n",
       "e1cafa0d-7fe1-4ec8-809d-1959badaffac      Active    None   \n",
       "\n",
       "                                                                               celltype  \n",
       "data_atacs_id                                                                            \n",
       "c13d47ee-f2e9-4a4a-92f7-d0ee2c2413a1  Cannot determine. data_atacs object does not h...  \n",
       "c2d3d7cc-3ece-423f-81d9-5f37fc002357  Cannot determine. data_atacs object does not h...  \n",
       "e7021f4e-90a7-456a-af8d-ed488cc405b5  Cannot determine. data_atacs object does not h...  \n",
       "f2d5469b-395f-44e1-9f12-511aff7c2ea1  Cannot determine. data_atacs object does not h...  \n",
       "ffbe88c6-49c0-4fce-8542-56bb2930ee4a  Cannot determine. data_atacs object does not h...  \n",
       "0807363e-03bb-4e93-812f-8d4239c5f48c                                                 MP  \n",
       "1b90c5f8-4245-419a-82fd-7944b14588f7                                                 MP  \n",
       "21de5e31-8409-4fb8-a764-f3210eb87a7f                                                 MP  \n",
       "4bf4760a-52b8-45b9-89c6-c068b952e74d                                                 MP  \n",
       "4d75c71d-a7d6-4280-9248-36ac6712ff14                                                 MP  \n",
       "8a0738f5-db4e-4d17-88a2-3e15e2647ae2                                                 MP  \n",
       "aac3e4c8-80f5-46c5-83bb-0728b300081c                                                 MP  \n",
       "b0d001f9-cded-427d-9fd4-6c99e7865d9f                                                 MP  \n",
       "f3201173-7061-43e2-8c9e-b4f12997dbef                                                 MP  \n",
       "12324d0a-6f68-4532-8e4a-4cf463fd8585                                                 CC  \n",
       "67741ce6-b71e-4fcd-ab58-a8a9f6a35bf3                                                 CC  \n",
       "67920cb4-9edf-4feb-b524-24fa6594eb16                                                 CC  \n",
       "731dfa8d-f74b-46ac-ad06-79605c42cab5                                                 CC  \n",
       "9a270d5c-7762-45b2-a775-dd96fd05fd69                                                 CC  \n",
       "c664cdee-2783-45a8-ab5b-ea1ad179ce3c                                                 CC  \n",
       "de4390f2-1415-48e3-bc0e-8dcc6c122038                                                 CC  \n",
       "ec7a95aa-d842-437b-8b71-390e754ea292                                                 CC  \n",
       "eda22522-ca48-4003-8c38-bade8418499d                                                 CC  \n",
       "12c627a1-4322-4a64-b464-b459d94964aa                                                 CP  \n",
       "18d81e58-62e7-4670-82ff-b18bf1cdb594                                                 CP  \n",
       "1abb4753-ee38-4265-afcf-35ab5be3a7b9                                                 CP  \n",
       "354ba2ed-1ddd-4556-a473-be90bc53577b                                                 CP  \n",
       "43d62011-1225-4cf4-b1d8-a3357d1b0439                                                 CP  \n",
       "61428cfc-338b-4307-addd-065c67429891                                                 CP  \n",
       "622d93a9-00f8-4886-a2a6-baa5af6c1a99                                                 CP  \n",
       "bfebdaa8-a50f-4f81-83cc-84fcf05c0450                                                 CP  \n",
       "e1cafa0d-7fe1-4ec8-809d-1959badaffac                                                 CP  "
      ]
     },
     "execution_count": 407,
     "metadata": {},
     "output_type": "execute_result"
    }
   ],
   "source": [
    "celltype_errors_df"
   ]
  },
  {
   "cell_type": "code",
   "execution_count": 412,
   "metadata": {
    "collapsed": true
   },
   "outputs": [],
   "source": [
    "fn = '/frazer01/home/joreyna/work/20161011_db/celltype_errors_df.csv'"
   ]
  },
  {
   "cell_type": "code",
   "execution_count": 413,
   "metadata": {
    "collapsed": true
   },
   "outputs": [],
   "source": [
    "celltype_errors_df.to_csv(fn); "
   ]
  },
  {
   "cell_type": "code",
   "execution_count": 414,
   "metadata": {
    "collapsed": false
   },
   "outputs": [],
   "source": [
    "!cp $fn /nas/Personal\\ folders/Joaquin"
   ]
  },
  {
   "cell_type": "code",
   "execution_count": 404,
   "metadata": {
    "collapsed": false
   },
   "outputs": [],
   "source": []
  },
  {
   "cell_type": "code",
   "execution_count": null,
   "metadata": {
    "collapsed": true
   },
   "outputs": [],
   "source": []
  },
  {
   "cell_type": "markdown",
   "metadata": {},
   "source": [
    "<h2>Finding out why Sample are not Properly Linked</h2>"
   ]
  },
  {
   "cell_type": "code",
   "execution_count": 425,
   "metadata": {
    "collapsed": true
   },
   "outputs": [],
   "source": [
    "# Samples which are not properly linked \n",
    "df2 = df[df.celltype.str.contains('^Cannot')]"
   ]
  },
  {
   "cell_type": "code",
   "execution_count": 493,
   "metadata": {
    "collapsed": true
   },
   "outputs": [],
   "source": [
    "# Aga's ATAC master linking table\n",
    "aga_master = pd.read_excel('ATAC_MASTER_TABLE_20161004_ADC_20161006_0109.xlsx')"
   ]
  },
  {
   "cell_type": "code",
   "execution_count": 495,
   "metadata": {
    "collapsed": false
   },
   "outputs": [
    {
     "data": {
      "text/html": [
       "<div>\n",
       "<table border=\"1\" class=\"dataframe\">\n",
       "  <thead>\n",
       "    <tr style=\"text-align: right;\">\n",
       "      <th></th>\n",
       "      <th>Sample.Name</th>\n",
       "      <th>Flow.Cell</th>\n",
       "      <th>Lane</th>\n",
       "      <th>Project</th>\n",
       "      <th>Library_Sequencing_Manifest_date</th>\n",
       "      <th>Assay_Type</th>\n",
       "      <th>ATACseq.ID</th>\n",
       "      <th>UDID</th>\n",
       "      <th>Subject</th>\n",
       "      <th>ClonePassage</th>\n",
       "      <th>...</th>\n",
       "      <th>Date.harvested</th>\n",
       "      <th>Date.tagmented</th>\n",
       "      <th>Operator.Tag</th>\n",
       "      <th>Tn5.enzyme.lot.</th>\n",
       "      <th>Tagm.buffer.lot</th>\n",
       "      <th>Qubit.ng.ul</th>\n",
       "      <th>Avg.MW</th>\n",
       "      <th>Percentage.150.1000bp</th>\n",
       "      <th>nM</th>\n",
       "      <th>nM.adjusted</th>\n",
       "    </tr>\n",
       "  </thead>\n",
       "  <tbody>\n",
       "  </tbody>\n",
       "</table>\n",
       "<p>0 rows × 36 columns</p>\n",
       "</div>"
      ],
      "text/plain": [
       "Empty DataFrame\n",
       "Columns: [Sample.Name, Flow.Cell, Lane, Project, Library_Sequencing_Manifest_date, Assay_Type, ATACseq.ID, UDID, Subject, ClonePassage, Differentiation_UUID, Pellet_UUID, Analyte_UUID, Data_UUID, Tissue.type, Tagmentation_CONDITION, Number_of_cells, Experimental_CONDITION, PCR.cycle.number, Reaction.volume, Enzyme.amount.uL, Size.selection, Ad1, Ad2, Operator.1, Operator.2, Date.harvested, Date.tagmented, Operator.Tag, Tn5.enzyme.lot., Tagm.buffer.lot, Qubit.ng.ul, Avg.MW, Percentage.150.1000bp, nM, nM.adjusted]\n",
       "Index: []\n",
       "\n",
       "[0 rows x 36 columns]"
      ]
     },
     "execution_count": 495,
     "metadata": {},
     "output_type": "execute_result"
    }
   ],
   "source": [
    "# Checking to see if ANY of the sample_name's can be found in aga's master table; it cannot \n",
    "aga_master[aga_master['Sample.Name'].isin(df2.name.tolist())]"
   ]
  },
  {
   "cell_type": "code",
   "execution_count": null,
   "metadata": {
    "collapsed": true
   },
   "outputs": [],
   "source": [
    "# Samples with S02\n",
    "df3 = read_frame(data_atacs.objects.filter(name__in=df2.name.tolist()))\n",
    "df3.sort_values('name', inplace=True)\n",
    "df3['merge'] = df3.name.str.replace('S02', 'S0')"
   ]
  },
  {
   "cell_type": "code",
   "execution_count": 471,
   "metadata": {
    "collapsed": false
   },
   "outputs": [],
   "source": [
    "# Samples with S01 \n",
    "df4 = read_frame(data_atacs.objects.filter(name__in=[x.replace('S02', 'S01') for x in df2.name.tolist()]))\n",
    "df4.sort_values('name', inplace=True)\n",
    "df4['merge'] = df4.name.str.replace('S01', 'S0')\n",
    "df5 = pd.merge(df3, df4, on='merge', suffixes=['_160820_Salk', '_160525_K00180_0185_AH7W7NBBXX_IGM'])"
   ]
  },
  {
   "cell_type": "code",
   "execution_count": 472,
   "metadata": {
    "collapsed": true
   },
   "outputs": [],
   "source": [
    "fn = '/frazer01/home/joreyna/work/20161011_db/missing_samples_df.csv'"
   ]
  },
  {
   "cell_type": "code",
   "execution_count": 473,
   "metadata": {
    "collapsed": false
   },
   "outputs": [],
   "source": [
    "df5.to_csv(fn)"
   ]
  },
  {
   "cell_type": "code",
   "execution_count": 474,
   "metadata": {
    "collapsed": true
   },
   "outputs": [],
   "source": [
    "!cp $fn /nas/Personal\\ folders/Joaquin"
   ]
  },
  {
   "cell_type": "code",
   "execution_count": null,
   "metadata": {
    "collapsed": true
   },
   "outputs": [],
   "source": []
  },
  {
   "cell_type": "code",
   "execution_count": 478,
   "metadata": {
    "collapsed": false
   },
   "outputs": [
    {
     "data": {
      "text/plain": [
       "[u'T103_CM_C5P30_UDID073_ATAC_R01L01S02',\n",
       " u'T103_CM_C4P37_UDID056_ATAC_R01L01S02',\n",
       " u'T104_CM_C6P25_UDID058_ATAC_R01L01S02',\n",
       " u'T211_CM_C3P30_UDID108_ATAC_R02L01S02',\n",
       " u'S07002_CM_C7P29_UDID053_ATAC_R01L01S02']"
      ]
     },
     "execution_count": 478,
     "metadata": {},
     "output_type": "execute_result"
    }
   ],
   "source": [
    "df2.name.tolist()"
   ]
  },
  {
   "cell_type": "code",
   "execution_count": 482,
   "metadata": {
    "collapsed": false
   },
   "outputs": [
    {
     "data": {
      "text/html": [
       "<div>\n",
       "<table border=\"1\" class=\"dataframe\">\n",
       "  <thead>\n",
       "    <tr style=\"text-align: right;\">\n",
       "      <th></th>\n",
       "      <th>sample_type</th>\n",
       "      <th>sample_id</th>\n",
       "      <th>sequence</th>\n",
       "      <th>id</th>\n",
       "      <th>name</th>\n",
       "      <th>status</th>\n",
       "      <th>comment</th>\n",
       "      <th>merge</th>\n",
       "    </tr>\n",
       "  </thead>\n",
       "  <tbody>\n",
       "    <tr>\n",
       "      <th>4</th>\n",
       "      <td>None</td>\n",
       "      <td>None</td>\n",
       "      <td>160820_Salk</td>\n",
       "      <td>ffbe88c6-49c0-4fce-8542-56bb2930ee4a</td>\n",
       "      <td>S07002_CM_C7P29_UDID053_ATAC_R01L01S02</td>\n",
       "      <td>Processing</td>\n",
       "      <td>None</td>\n",
       "      <td>S07002_CM_C7P29_UDID053_ATAC_R01L01S0</td>\n",
       "    </tr>\n",
       "    <tr>\n",
       "      <th>1</th>\n",
       "      <td>None</td>\n",
       "      <td>None</td>\n",
       "      <td>160820_Salk</td>\n",
       "      <td>c2d3d7cc-3ece-423f-81d9-5f37fc002357</td>\n",
       "      <td>T103_CM_C4P37_UDID056_ATAC_R01L01S02</td>\n",
       "      <td>Processing</td>\n",
       "      <td>None</td>\n",
       "      <td>T103_CM_C4P37_UDID056_ATAC_R01L01S0</td>\n",
       "    </tr>\n",
       "    <tr>\n",
       "      <th>0</th>\n",
       "      <td>None</td>\n",
       "      <td>None</td>\n",
       "      <td>160820_Salk</td>\n",
       "      <td>c13d47ee-f2e9-4a4a-92f7-d0ee2c2413a1</td>\n",
       "      <td>T103_CM_C5P30_UDID073_ATAC_R01L01S02</td>\n",
       "      <td>Processing</td>\n",
       "      <td>None</td>\n",
       "      <td>T103_CM_C5P30_UDID073_ATAC_R01L01S0</td>\n",
       "    </tr>\n",
       "    <tr>\n",
       "      <th>2</th>\n",
       "      <td>None</td>\n",
       "      <td>None</td>\n",
       "      <td>160820_Salk</td>\n",
       "      <td>e7021f4e-90a7-456a-af8d-ed488cc405b5</td>\n",
       "      <td>T104_CM_C6P25_UDID058_ATAC_R01L01S02</td>\n",
       "      <td>Processing</td>\n",
       "      <td>None</td>\n",
       "      <td>T104_CM_C6P25_UDID058_ATAC_R01L01S0</td>\n",
       "    </tr>\n",
       "    <tr>\n",
       "      <th>3</th>\n",
       "      <td>None</td>\n",
       "      <td>None</td>\n",
       "      <td>160820_Salk</td>\n",
       "      <td>f2d5469b-395f-44e1-9f12-511aff7c2ea1</td>\n",
       "      <td>T211_CM_C3P30_UDID108_ATAC_R02L01S02</td>\n",
       "      <td>Processing</td>\n",
       "      <td>None</td>\n",
       "      <td>T211_CM_C3P30_UDID108_ATAC_R02L01S0</td>\n",
       "    </tr>\n",
       "  </tbody>\n",
       "</table>\n",
       "</div>"
      ],
      "text/plain": [
       "  sample_type sample_id     sequence                                    id  \\\n",
       "4        None      None  160820_Salk  ffbe88c6-49c0-4fce-8542-56bb2930ee4a   \n",
       "1        None      None  160820_Salk  c2d3d7cc-3ece-423f-81d9-5f37fc002357   \n",
       "0        None      None  160820_Salk  c13d47ee-f2e9-4a4a-92f7-d0ee2c2413a1   \n",
       "2        None      None  160820_Salk  e7021f4e-90a7-456a-af8d-ed488cc405b5   \n",
       "3        None      None  160820_Salk  f2d5469b-395f-44e1-9f12-511aff7c2ea1   \n",
       "\n",
       "                                     name      status comment  \\\n",
       "4  S07002_CM_C7P29_UDID053_ATAC_R01L01S02  Processing    None   \n",
       "1    T103_CM_C4P37_UDID056_ATAC_R01L01S02  Processing    None   \n",
       "0    T103_CM_C5P30_UDID073_ATAC_R01L01S02  Processing    None   \n",
       "2    T104_CM_C6P25_UDID058_ATAC_R01L01S02  Processing    None   \n",
       "3    T211_CM_C3P30_UDID108_ATAC_R02L01S02  Processing    None   \n",
       "\n",
       "                                   merge  \n",
       "4  S07002_CM_C7P29_UDID053_ATAC_R01L01S0  \n",
       "1    T103_CM_C4P37_UDID056_ATAC_R01L01S0  \n",
       "0    T103_CM_C5P30_UDID073_ATAC_R01L01S0  \n",
       "2    T104_CM_C6P25_UDID058_ATAC_R01L01S0  \n",
       "3    T211_CM_C3P30_UDID108_ATAC_R02L01S0  "
      ]
     },
     "execution_count": 482,
     "metadata": {},
     "output_type": "execute_result"
    }
   ],
   "source": [
    "df3"
   ]
  },
  {
   "cell_type": "code",
   "execution_count": null,
   "metadata": {
    "collapsed": true
   },
   "outputs": [],
   "source": [
    "# Checking UUID's that are part of the fast"
   ]
  },
  {
   "cell_type": "code",
   "execution_count": 503,
   "metadata": {
    "collapsed": false
   },
   "outputs": [
    {
     "data": {
      "text/html": [
       "<div>\n",
       "<table border=\"1\" class=\"dataframe\">\n",
       "  <thead>\n",
       "    <tr style=\"text-align: right;\">\n",
       "      <th></th>\n",
       "      <th>sample_type_160820_Salk</th>\n",
       "      <th>sample_id_160820_Salk</th>\n",
       "      <th>sequence_160820_Salk</th>\n",
       "      <th>id_160820_Salk</th>\n",
       "      <th>name_160820_Salk</th>\n",
       "      <th>status_160820_Salk</th>\n",
       "      <th>comment_160820_Salk</th>\n",
       "      <th>merge</th>\n",
       "      <th>sample_type_160525_K00180_0185_AH7W7NBBXX_IGM</th>\n",
       "      <th>sample_id_160525_K00180_0185_AH7W7NBBXX_IGM</th>\n",
       "      <th>sequence_160525_K00180_0185_AH7W7NBBXX_IGM</th>\n",
       "      <th>id_160525_K00180_0185_AH7W7NBBXX_IGM</th>\n",
       "      <th>name_160525_K00180_0185_AH7W7NBBXX_IGM</th>\n",
       "      <th>status_160525_K00180_0185_AH7W7NBBXX_IGM</th>\n",
       "      <th>comment_160525_K00180_0185_AH7W7NBBXX_IGM</th>\n",
       "    </tr>\n",
       "  </thead>\n",
       "  <tbody>\n",
       "    <tr>\n",
       "      <th>0</th>\n",
       "      <td>None</td>\n",
       "      <td>None</td>\n",
       "      <td>160820_Salk</td>\n",
       "      <td>ffbe88c6-49c0-4fce-8542-56bb2930ee4a</td>\n",
       "      <td>S07002_CM_C7P29_UDID053_ATAC_R01L01S02</td>\n",
       "      <td>Processing</td>\n",
       "      <td>None</td>\n",
       "      <td>S07002_CM_C7P29_UDID053_ATAC_R01L01S0</td>\n",
       "      <td>atacs</td>\n",
       "      <td>76</td>\n",
       "      <td>160525_K00180_0185_AH7W7NBBXX</td>\n",
       "      <td>f1e0d609-fe23-4a50-9316-e59094738d07</td>\n",
       "      <td>S07002_CM_C7P29_UDID053_ATAC_R01L01S01</td>\n",
       "      <td>Processing</td>\n",
       "      <td>None</td>\n",
       "    </tr>\n",
       "    <tr>\n",
       "      <th>1</th>\n",
       "      <td>None</td>\n",
       "      <td>None</td>\n",
       "      <td>160820_Salk</td>\n",
       "      <td>c2d3d7cc-3ece-423f-81d9-5f37fc002357</td>\n",
       "      <td>T103_CM_C4P37_UDID056_ATAC_R01L01S02</td>\n",
       "      <td>Processing</td>\n",
       "      <td>None</td>\n",
       "      <td>T103_CM_C4P37_UDID056_ATAC_R01L01S0</td>\n",
       "      <td>atacs</td>\n",
       "      <td>82</td>\n",
       "      <td>160525_K00180_0185_AH7W7NBBXX</td>\n",
       "      <td>08281563-cef0-4526-b865-b21f7d1a2a03</td>\n",
       "      <td>T103_CM_C4P37_UDID056_ATAC_R01L01S01</td>\n",
       "      <td>Processing</td>\n",
       "      <td>None</td>\n",
       "    </tr>\n",
       "    <tr>\n",
       "      <th>2</th>\n",
       "      <td>None</td>\n",
       "      <td>None</td>\n",
       "      <td>160820_Salk</td>\n",
       "      <td>c13d47ee-f2e9-4a4a-92f7-d0ee2c2413a1</td>\n",
       "      <td>T103_CM_C5P30_UDID073_ATAC_R01L01S02</td>\n",
       "      <td>Processing</td>\n",
       "      <td>None</td>\n",
       "      <td>T103_CM_C5P30_UDID073_ATAC_R01L01S0</td>\n",
       "      <td>atacs</td>\n",
       "      <td>129</td>\n",
       "      <td>160525_K00180_0185_AH7W7NBBXX</td>\n",
       "      <td>1e54bc10-33dd-4758-aff1-fb9d50db1c0d</td>\n",
       "      <td>T103_CM_C5P30_UDID073_ATAC_R01L01S01</td>\n",
       "      <td>Processing</td>\n",
       "      <td>None</td>\n",
       "    </tr>\n",
       "    <tr>\n",
       "      <th>3</th>\n",
       "      <td>None</td>\n",
       "      <td>None</td>\n",
       "      <td>160820_Salk</td>\n",
       "      <td>e7021f4e-90a7-456a-af8d-ed488cc405b5</td>\n",
       "      <td>T104_CM_C6P25_UDID058_ATAC_R01L01S02</td>\n",
       "      <td>Processing</td>\n",
       "      <td>None</td>\n",
       "      <td>T104_CM_C6P25_UDID058_ATAC_R01L01S0</td>\n",
       "      <td>atacs</td>\n",
       "      <td>86</td>\n",
       "      <td>160525_K00180_0185_AH7W7NBBXX</td>\n",
       "      <td>08ee2e14-a5fd-45fc-8ab3-617809befbf3</td>\n",
       "      <td>T104_CM_C6P25_UDID058_ATAC_R01L01S01</td>\n",
       "      <td>Processing</td>\n",
       "      <td>None</td>\n",
       "    </tr>\n",
       "    <tr>\n",
       "      <th>4</th>\n",
       "      <td>None</td>\n",
       "      <td>None</td>\n",
       "      <td>160820_Salk</td>\n",
       "      <td>f2d5469b-395f-44e1-9f12-511aff7c2ea1</td>\n",
       "      <td>T211_CM_C3P30_UDID108_ATAC_R02L01S02</td>\n",
       "      <td>Processing</td>\n",
       "      <td>None</td>\n",
       "      <td>T211_CM_C3P30_UDID108_ATAC_R02L01S0</td>\n",
       "      <td>atacs</td>\n",
       "      <td>162</td>\n",
       "      <td>160525_K00180_0185_AH7W7NBBXX</td>\n",
       "      <td>7fa51fb8-13e0-4c96-b4b3-35a789e394b7</td>\n",
       "      <td>T211_CM_C3P30_UDID108_ATAC_R02L01S01</td>\n",
       "      <td>Processing</td>\n",
       "      <td>None</td>\n",
       "    </tr>\n",
       "  </tbody>\n",
       "</table>\n",
       "</div>"
      ],
      "text/plain": [
       "  sample_type_160820_Salk sample_id_160820_Salk sequence_160820_Salk  \\\n",
       "0                    None                  None          160820_Salk   \n",
       "1                    None                  None          160820_Salk   \n",
       "2                    None                  None          160820_Salk   \n",
       "3                    None                  None          160820_Salk   \n",
       "4                    None                  None          160820_Salk   \n",
       "\n",
       "                         id_160820_Salk  \\\n",
       "0  ffbe88c6-49c0-4fce-8542-56bb2930ee4a   \n",
       "1  c2d3d7cc-3ece-423f-81d9-5f37fc002357   \n",
       "2  c13d47ee-f2e9-4a4a-92f7-d0ee2c2413a1   \n",
       "3  e7021f4e-90a7-456a-af8d-ed488cc405b5   \n",
       "4  f2d5469b-395f-44e1-9f12-511aff7c2ea1   \n",
       "\n",
       "                         name_160820_Salk status_160820_Salk  \\\n",
       "0  S07002_CM_C7P29_UDID053_ATAC_R01L01S02         Processing   \n",
       "1    T103_CM_C4P37_UDID056_ATAC_R01L01S02         Processing   \n",
       "2    T103_CM_C5P30_UDID073_ATAC_R01L01S02         Processing   \n",
       "3    T104_CM_C6P25_UDID058_ATAC_R01L01S02         Processing   \n",
       "4    T211_CM_C3P30_UDID108_ATAC_R02L01S02         Processing   \n",
       "\n",
       "  comment_160820_Salk                                  merge  \\\n",
       "0                None  S07002_CM_C7P29_UDID053_ATAC_R01L01S0   \n",
       "1                None    T103_CM_C4P37_UDID056_ATAC_R01L01S0   \n",
       "2                None    T103_CM_C5P30_UDID073_ATAC_R01L01S0   \n",
       "3                None    T104_CM_C6P25_UDID058_ATAC_R01L01S0   \n",
       "4                None    T211_CM_C3P30_UDID108_ATAC_R02L01S0   \n",
       "\n",
       "  sample_type_160525_K00180_0185_AH7W7NBBXX_IGM  \\\n",
       "0                                         atacs   \n",
       "1                                         atacs   \n",
       "2                                         atacs   \n",
       "3                                         atacs   \n",
       "4                                         atacs   \n",
       "\n",
       "   sample_id_160525_K00180_0185_AH7W7NBBXX_IGM  \\\n",
       "0                                           76   \n",
       "1                                           82   \n",
       "2                                          129   \n",
       "3                                           86   \n",
       "4                                          162   \n",
       "\n",
       "  sequence_160525_K00180_0185_AH7W7NBBXX_IGM  \\\n",
       "0              160525_K00180_0185_AH7W7NBBXX   \n",
       "1              160525_K00180_0185_AH7W7NBBXX   \n",
       "2              160525_K00180_0185_AH7W7NBBXX   \n",
       "3              160525_K00180_0185_AH7W7NBBXX   \n",
       "4              160525_K00180_0185_AH7W7NBBXX   \n",
       "\n",
       "   id_160525_K00180_0185_AH7W7NBBXX_IGM  \\\n",
       "0  f1e0d609-fe23-4a50-9316-e59094738d07   \n",
       "1  08281563-cef0-4526-b865-b21f7d1a2a03   \n",
       "2  1e54bc10-33dd-4758-aff1-fb9d50db1c0d   \n",
       "3  08ee2e14-a5fd-45fc-8ab3-617809befbf3   \n",
       "4  7fa51fb8-13e0-4c96-b4b3-35a789e394b7   \n",
       "\n",
       "   name_160525_K00180_0185_AH7W7NBBXX_IGM  \\\n",
       "0  S07002_CM_C7P29_UDID053_ATAC_R01L01S01   \n",
       "1    T103_CM_C4P37_UDID056_ATAC_R01L01S01   \n",
       "2    T103_CM_C5P30_UDID073_ATAC_R01L01S01   \n",
       "3    T104_CM_C6P25_UDID058_ATAC_R01L01S01   \n",
       "4    T211_CM_C3P30_UDID108_ATAC_R02L01S01   \n",
       "\n",
       "  status_160525_K00180_0185_AH7W7NBBXX_IGM  \\\n",
       "0                               Processing   \n",
       "1                               Processing   \n",
       "2                               Processing   \n",
       "3                               Processing   \n",
       "4                               Processing   \n",
       "\n",
       "  comment_160525_K00180_0185_AH7W7NBBXX_IGM  \n",
       "0                                      None  \n",
       "1                                      None  \n",
       "2                                      None  \n",
       "3                                      None  \n",
       "4                                      None  "
      ]
     },
     "execution_count": 503,
     "metadata": {},
     "output_type": "execute_result"
    }
   ],
   "source": [
    "df5"
   ]
  },
  {
   "cell_type": "code",
   "execution_count": null,
   "metadata": {
    "collapsed": true
   },
   "outputs": [],
   "source": []
  },
  {
   "cell_type": "code",
   "execution_count": null,
   "metadata": {
    "collapsed": true
   },
   "outputs": [],
   "source": []
  },
  {
   "cell_type": "code",
   "execution_count": null,
   "metadata": {
    "collapsed": true
   },
   "outputs": [],
   "source": []
  },
  {
   "cell_type": "code",
   "execution_count": null,
   "metadata": {
    "collapsed": true
   },
   "outputs": [],
   "source": []
  },
  {
   "cell_type": "code",
   "execution_count": null,
   "metadata": {
    "collapsed": true
   },
   "outputs": [],
   "source": []
  },
  {
   "cell_type": "code",
   "execution_count": null,
   "metadata": {
    "collapsed": true
   },
   "outputs": [],
   "source": []
  },
  {
   "cell_type": "code",
   "execution_count": null,
   "metadata": {
    "collapsed": true
   },
   "outputs": [],
   "source": []
  },
  {
   "cell_type": "code",
   "execution_count": null,
   "metadata": {
    "collapsed": true
   },
   "outputs": [],
   "source": []
  },
  {
   "cell_type": "code",
   "execution_count": null,
   "metadata": {
    "collapsed": true
   },
   "outputs": [],
   "source": []
  }
 ],
 "metadata": {
  "kernelspec": {
   "display_name": "Python (cardips)",
   "language": "python",
   "name": "cardips"
  },
  "language_info": {
   "codemirror_mode": {
    "name": "ipython",
    "version": 2
   },
   "file_extension": ".py",
   "mimetype": "text/x-python",
   "name": "python",
   "nbconvert_exporter": "python",
   "pygments_lexer": "ipython2",
   "version": "2.7.11"
  }
 },
 "nbformat": 4,
 "nbformat_minor": 0
}
